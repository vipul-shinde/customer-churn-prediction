{
 "cells": [
  {
   "cell_type": "code",
   "execution_count": 2,
   "metadata": {},
   "outputs": [],
   "source": [
    "# Importing the Libraries\n",
    "import numpy as np\n",
    "import pandas as pd\n",
    "import matplotlib.pyplot as plt\n",
    "import seaborn as sns\n",
    "from sklearn.pipeline import Pipeline\n",
    "from sklearn.compose import ColumnTransformer\n",
    "from sklearn.preprocessing import StandardScaler, OneHotEncoder, LabelBinarizer\n",
    "from sklearn.model_selection import train_test_split, RepeatedStratifiedKFold, cross_val_score\n",
    "from sklearn.metrics import accuracy_score, roc_auc_score, confusion_matrix, classification_report, f1_score, precision_score, recall_score\n",
    "from sklearn.ensemble import RandomForestClassifier\n",
    "from sklearn.linear_model import LogisticRegression\n",
    "from sklearn.model_selection import GridSearchCV\n",
    "from xgboost import XGBClassifier\n",
    "from sklearn.neighbors import KNeighborsClassifier"
   ]
  },
  {
   "cell_type": "code",
   "execution_count": 3,
   "metadata": {},
   "outputs": [
    {
     "data": {
      "text/html": [
       "<div>\n",
       "<style scoped>\n",
       "    .dataframe tbody tr th:only-of-type {\n",
       "        vertical-align: middle;\n",
       "    }\n",
       "\n",
       "    .dataframe tbody tr th {\n",
       "        vertical-align: top;\n",
       "    }\n",
       "\n",
       "    .dataframe thead th {\n",
       "        text-align: right;\n",
       "    }\n",
       "</style>\n",
       "<table border=\"1\" class=\"dataframe\">\n",
       "  <thead>\n",
       "    <tr style=\"text-align: right;\">\n",
       "      <th></th>\n",
       "      <th>Senior Citizen</th>\n",
       "      <th>Partner</th>\n",
       "      <th>Dependents</th>\n",
       "      <th>Tenure</th>\n",
       "      <th>Phone Service</th>\n",
       "      <th>Multiple Lines</th>\n",
       "      <th>Internet Service</th>\n",
       "      <th>Online Security</th>\n",
       "      <th>Online Backup</th>\n",
       "      <th>Device Protection</th>\n",
       "      <th>Tech Support</th>\n",
       "      <th>Streaming TV</th>\n",
       "      <th>Streaming Movies</th>\n",
       "      <th>Contract</th>\n",
       "      <th>Paperless Billing</th>\n",
       "      <th>Payment Method</th>\n",
       "      <th>Monthly Charges</th>\n",
       "      <th>Total Charges</th>\n",
       "      <th>Churn</th>\n",
       "    </tr>\n",
       "  </thead>\n",
       "  <tbody>\n",
       "    <tr>\n",
       "      <th>0</th>\n",
       "      <td>No</td>\n",
       "      <td>Yes</td>\n",
       "      <td>No</td>\n",
       "      <td>1.0</td>\n",
       "      <td>No</td>\n",
       "      <td>No phone service</td>\n",
       "      <td>DSL</td>\n",
       "      <td>No</td>\n",
       "      <td>Yes</td>\n",
       "      <td>No</td>\n",
       "      <td>No</td>\n",
       "      <td>No</td>\n",
       "      <td>No</td>\n",
       "      <td>Month-to-month</td>\n",
       "      <td>Yes</td>\n",
       "      <td>Electronic check</td>\n",
       "      <td>29.85</td>\n",
       "      <td>29.85</td>\n",
       "      <td>No</td>\n",
       "    </tr>\n",
       "    <tr>\n",
       "      <th>1</th>\n",
       "      <td>No</td>\n",
       "      <td>No</td>\n",
       "      <td>No</td>\n",
       "      <td>34.0</td>\n",
       "      <td>Yes</td>\n",
       "      <td>No</td>\n",
       "      <td>DSL</td>\n",
       "      <td>Yes</td>\n",
       "      <td>No</td>\n",
       "      <td>Yes</td>\n",
       "      <td>No</td>\n",
       "      <td>No</td>\n",
       "      <td>No</td>\n",
       "      <td>One year</td>\n",
       "      <td>No</td>\n",
       "      <td>Mailed check</td>\n",
       "      <td>56.95</td>\n",
       "      <td>1889.50</td>\n",
       "      <td>No</td>\n",
       "    </tr>\n",
       "    <tr>\n",
       "      <th>2</th>\n",
       "      <td>No</td>\n",
       "      <td>No</td>\n",
       "      <td>No</td>\n",
       "      <td>2.0</td>\n",
       "      <td>Yes</td>\n",
       "      <td>No</td>\n",
       "      <td>DSL</td>\n",
       "      <td>Yes</td>\n",
       "      <td>Yes</td>\n",
       "      <td>No</td>\n",
       "      <td>No</td>\n",
       "      <td>No</td>\n",
       "      <td>No</td>\n",
       "      <td>Month-to-month</td>\n",
       "      <td>Yes</td>\n",
       "      <td>Mailed check</td>\n",
       "      <td>53.85</td>\n",
       "      <td>108.15</td>\n",
       "      <td>Yes</td>\n",
       "    </tr>\n",
       "    <tr>\n",
       "      <th>3</th>\n",
       "      <td>No</td>\n",
       "      <td>No</td>\n",
       "      <td>No</td>\n",
       "      <td>45.0</td>\n",
       "      <td>No</td>\n",
       "      <td>No phone service</td>\n",
       "      <td>DSL</td>\n",
       "      <td>Yes</td>\n",
       "      <td>No</td>\n",
       "      <td>Yes</td>\n",
       "      <td>Yes</td>\n",
       "      <td>No</td>\n",
       "      <td>No</td>\n",
       "      <td>One year</td>\n",
       "      <td>No</td>\n",
       "      <td>Bank transfer (automatic)</td>\n",
       "      <td>42.30</td>\n",
       "      <td>1840.75</td>\n",
       "      <td>No</td>\n",
       "    </tr>\n",
       "    <tr>\n",
       "      <th>4</th>\n",
       "      <td>No</td>\n",
       "      <td>No</td>\n",
       "      <td>No</td>\n",
       "      <td>2.0</td>\n",
       "      <td>Yes</td>\n",
       "      <td>No</td>\n",
       "      <td>Fiber optic</td>\n",
       "      <td>No</td>\n",
       "      <td>No</td>\n",
       "      <td>No</td>\n",
       "      <td>No</td>\n",
       "      <td>No</td>\n",
       "      <td>No</td>\n",
       "      <td>Month-to-month</td>\n",
       "      <td>Yes</td>\n",
       "      <td>Electronic check</td>\n",
       "      <td>70.70</td>\n",
       "      <td>151.65</td>\n",
       "      <td>Yes</td>\n",
       "    </tr>\n",
       "  </tbody>\n",
       "</table>\n",
       "</div>"
      ],
      "text/plain": [
       "  Senior Citizen Partner Dependents  Tenure Phone Service    Multiple Lines  \\\n",
       "0             No     Yes         No     1.0            No  No phone service   \n",
       "1             No      No         No    34.0           Yes                No   \n",
       "2             No      No         No     2.0           Yes                No   \n",
       "3             No      No         No    45.0            No  No phone service   \n",
       "4             No      No         No     2.0           Yes                No   \n",
       "\n",
       "  Internet Service Online Security Online Backup Device Protection  \\\n",
       "0              DSL              No           Yes                No   \n",
       "1              DSL             Yes            No               Yes   \n",
       "2              DSL             Yes           Yes                No   \n",
       "3              DSL             Yes            No               Yes   \n",
       "4      Fiber optic              No            No                No   \n",
       "\n",
       "  Tech Support Streaming TV Streaming Movies        Contract  \\\n",
       "0           No           No               No  Month-to-month   \n",
       "1           No           No               No        One year   \n",
       "2           No           No               No  Month-to-month   \n",
       "3          Yes           No               No        One year   \n",
       "4           No           No               No  Month-to-month   \n",
       "\n",
       "  Paperless Billing             Payment Method  Monthly Charges  \\\n",
       "0               Yes           Electronic check            29.85   \n",
       "1                No               Mailed check            56.95   \n",
       "2               Yes               Mailed check            53.85   \n",
       "3                No  Bank transfer (automatic)            42.30   \n",
       "4               Yes           Electronic check            70.70   \n",
       "\n",
       "   Total Charges Churn  \n",
       "0          29.85    No  \n",
       "1        1889.50    No  \n",
       "2         108.15   Yes  \n",
       "3        1840.75    No  \n",
       "4         151.65   Yes  "
      ]
     },
     "execution_count": 3,
     "metadata": {},
     "output_type": "execute_result"
    }
   ],
   "source": [
    "# Importing the cleaned dataset\n",
    "pd.set_option('display.max_columns', None)\n",
    "churn_df = pd.read_csv(\"customer-churn-cleaned.csv\")\n",
    "churn_df.head()"
   ]
  },
  {
   "cell_type": "code",
   "execution_count": 4,
   "metadata": {},
   "outputs": [
    {
     "data": {
      "text/plain": [
       "Senior Citizen       0\n",
       "Partner              0\n",
       "Dependents           0\n",
       "Tenure               0\n",
       "Phone Service        0\n",
       "Multiple Lines       0\n",
       "Internet Service     0\n",
       "Online Security      0\n",
       "Online Backup        0\n",
       "Device Protection    0\n",
       "Tech Support         0\n",
       "Streaming TV         0\n",
       "Streaming Movies     0\n",
       "Contract             0\n",
       "Paperless Billing    0\n",
       "Payment Method       0\n",
       "Monthly Charges      0\n",
       "Total Charges        0\n",
       "Churn                0\n",
       "dtype: int64"
      ]
     },
     "execution_count": 4,
     "metadata": {},
     "output_type": "execute_result"
    }
   ],
   "source": [
    "# Checking for missing values if any (just to be sure)\n",
    "churn_df.isnull().sum()"
   ]
  },
  {
   "cell_type": "code",
   "execution_count": 5,
   "metadata": {},
   "outputs": [
    {
     "data": {
      "text/plain": [
       "No     5163\n",
       "Yes    1869\n",
       "Name: Churn, dtype: int64"
      ]
     },
     "execution_count": 5,
     "metadata": {},
     "output_type": "execute_result"
    }
   ],
   "source": [
    "# Checking for class imbalance\n",
    "churn_df.Churn.value_counts()"
   ]
  },
  {
   "cell_type": "code",
   "execution_count": 6,
   "metadata": {},
   "outputs": [
    {
     "data": {
      "text/html": [
       "<div>\n",
       "<style scoped>\n",
       "    .dataframe tbody tr th:only-of-type {\n",
       "        vertical-align: middle;\n",
       "    }\n",
       "\n",
       "    .dataframe tbody tr th {\n",
       "        vertical-align: top;\n",
       "    }\n",
       "\n",
       "    .dataframe thead th {\n",
       "        text-align: right;\n",
       "    }\n",
       "</style>\n",
       "<table border=\"1\" class=\"dataframe\">\n",
       "  <thead>\n",
       "    <tr style=\"text-align: right;\">\n",
       "      <th></th>\n",
       "      <th>Senior Citizen</th>\n",
       "      <th>Partner</th>\n",
       "      <th>Dependents</th>\n",
       "      <th>Tenure</th>\n",
       "      <th>Phone Service</th>\n",
       "      <th>Multiple Lines</th>\n",
       "      <th>Internet Service</th>\n",
       "      <th>Online Security</th>\n",
       "      <th>Online Backup</th>\n",
       "      <th>Device Protection</th>\n",
       "      <th>Tech Support</th>\n",
       "      <th>Streaming TV</th>\n",
       "      <th>Streaming Movies</th>\n",
       "      <th>Contract</th>\n",
       "      <th>Paperless Billing</th>\n",
       "      <th>Payment Method</th>\n",
       "      <th>Monthly Charges</th>\n",
       "      <th>Total Charges</th>\n",
       "      <th>Churn</th>\n",
       "    </tr>\n",
       "  </thead>\n",
       "  <tbody>\n",
       "    <tr>\n",
       "      <th>0</th>\n",
       "      <td>No</td>\n",
       "      <td>Yes</td>\n",
       "      <td>No</td>\n",
       "      <td>1.0</td>\n",
       "      <td>No</td>\n",
       "      <td>No phone service</td>\n",
       "      <td>DSL</td>\n",
       "      <td>No</td>\n",
       "      <td>Yes</td>\n",
       "      <td>No</td>\n",
       "      <td>No</td>\n",
       "      <td>No</td>\n",
       "      <td>No</td>\n",
       "      <td>Month-to-month</td>\n",
       "      <td>Yes</td>\n",
       "      <td>Electronic check</td>\n",
       "      <td>29.85</td>\n",
       "      <td>29.85</td>\n",
       "      <td>0</td>\n",
       "    </tr>\n",
       "    <tr>\n",
       "      <th>1</th>\n",
       "      <td>No</td>\n",
       "      <td>No</td>\n",
       "      <td>No</td>\n",
       "      <td>34.0</td>\n",
       "      <td>Yes</td>\n",
       "      <td>No</td>\n",
       "      <td>DSL</td>\n",
       "      <td>Yes</td>\n",
       "      <td>No</td>\n",
       "      <td>Yes</td>\n",
       "      <td>No</td>\n",
       "      <td>No</td>\n",
       "      <td>No</td>\n",
       "      <td>One year</td>\n",
       "      <td>No</td>\n",
       "      <td>Mailed check</td>\n",
       "      <td>56.95</td>\n",
       "      <td>1889.50</td>\n",
       "      <td>0</td>\n",
       "    </tr>\n",
       "    <tr>\n",
       "      <th>2</th>\n",
       "      <td>No</td>\n",
       "      <td>No</td>\n",
       "      <td>No</td>\n",
       "      <td>2.0</td>\n",
       "      <td>Yes</td>\n",
       "      <td>No</td>\n",
       "      <td>DSL</td>\n",
       "      <td>Yes</td>\n",
       "      <td>Yes</td>\n",
       "      <td>No</td>\n",
       "      <td>No</td>\n",
       "      <td>No</td>\n",
       "      <td>No</td>\n",
       "      <td>Month-to-month</td>\n",
       "      <td>Yes</td>\n",
       "      <td>Mailed check</td>\n",
       "      <td>53.85</td>\n",
       "      <td>108.15</td>\n",
       "      <td>1</td>\n",
       "    </tr>\n",
       "    <tr>\n",
       "      <th>3</th>\n",
       "      <td>No</td>\n",
       "      <td>No</td>\n",
       "      <td>No</td>\n",
       "      <td>45.0</td>\n",
       "      <td>No</td>\n",
       "      <td>No phone service</td>\n",
       "      <td>DSL</td>\n",
       "      <td>Yes</td>\n",
       "      <td>No</td>\n",
       "      <td>Yes</td>\n",
       "      <td>Yes</td>\n",
       "      <td>No</td>\n",
       "      <td>No</td>\n",
       "      <td>One year</td>\n",
       "      <td>No</td>\n",
       "      <td>Bank transfer (automatic)</td>\n",
       "      <td>42.30</td>\n",
       "      <td>1840.75</td>\n",
       "      <td>0</td>\n",
       "    </tr>\n",
       "    <tr>\n",
       "      <th>4</th>\n",
       "      <td>No</td>\n",
       "      <td>No</td>\n",
       "      <td>No</td>\n",
       "      <td>2.0</td>\n",
       "      <td>Yes</td>\n",
       "      <td>No</td>\n",
       "      <td>Fiber optic</td>\n",
       "      <td>No</td>\n",
       "      <td>No</td>\n",
       "      <td>No</td>\n",
       "      <td>No</td>\n",
       "      <td>No</td>\n",
       "      <td>No</td>\n",
       "      <td>Month-to-month</td>\n",
       "      <td>Yes</td>\n",
       "      <td>Electronic check</td>\n",
       "      <td>70.70</td>\n",
       "      <td>151.65</td>\n",
       "      <td>1</td>\n",
       "    </tr>\n",
       "  </tbody>\n",
       "</table>\n",
       "</div>"
      ],
      "text/plain": [
       "  Senior Citizen Partner Dependents  Tenure Phone Service    Multiple Lines  \\\n",
       "0             No     Yes         No     1.0            No  No phone service   \n",
       "1             No      No         No    34.0           Yes                No   \n",
       "2             No      No         No     2.0           Yes                No   \n",
       "3             No      No         No    45.0            No  No phone service   \n",
       "4             No      No         No     2.0           Yes                No   \n",
       "\n",
       "  Internet Service Online Security Online Backup Device Protection  \\\n",
       "0              DSL              No           Yes                No   \n",
       "1              DSL             Yes            No               Yes   \n",
       "2              DSL             Yes           Yes                No   \n",
       "3              DSL             Yes            No               Yes   \n",
       "4      Fiber optic              No            No                No   \n",
       "\n",
       "  Tech Support Streaming TV Streaming Movies        Contract  \\\n",
       "0           No           No               No  Month-to-month   \n",
       "1           No           No               No        One year   \n",
       "2           No           No               No  Month-to-month   \n",
       "3          Yes           No               No        One year   \n",
       "4           No           No               No  Month-to-month   \n",
       "\n",
       "  Paperless Billing             Payment Method  Monthly Charges  \\\n",
       "0               Yes           Electronic check            29.85   \n",
       "1                No               Mailed check            56.95   \n",
       "2               Yes               Mailed check            53.85   \n",
       "3                No  Bank transfer (automatic)            42.30   \n",
       "4               Yes           Electronic check            70.70   \n",
       "\n",
       "   Total Charges  Churn  \n",
       "0          29.85      0  \n",
       "1        1889.50      0  \n",
       "2         108.15      1  \n",
       "3        1840.75      0  \n",
       "4         151.65      1  "
      ]
     },
     "execution_count": 6,
     "metadata": {},
     "output_type": "execute_result"
    }
   ],
   "source": [
    "# Converting our target variable into 0/1\n",
    "lb = LabelBinarizer()\n",
    "churn_df[\"Churn\"] = lb.fit_transform(churn_df[\"Churn\"])\n",
    "churn_df.head(5)"
   ]
  },
  {
   "cell_type": "code",
   "execution_count": 7,
   "metadata": {},
   "outputs": [
    {
     "name": "stdout",
     "output_type": "stream",
     "text": [
      "['Senior Citizen', 'Partner', 'Dependents', 'Phone Service', 'Multiple Lines', 'Internet Service', 'Online Security', 'Online Backup', 'Device Protection', 'Tech Support', 'Streaming TV', 'Streaming Movies', 'Contract', 'Paperless Billing', 'Payment Method']\n"
     ]
    }
   ],
   "source": [
    "# Making a list of categorical and numerical attributes\n",
    "num_attributes = [\"Tenure\", \"Monthly Charges\", \"Total Charges\"]\n",
    "cat_attributes = [column for column in churn_df.columns[:-1] if not column in num_attributes]\n",
    "print(cat_attributes)"
   ]
  },
  {
   "cell_type": "code",
   "execution_count": 8,
   "metadata": {},
   "outputs": [],
   "source": [
    "# # Performing SMOTE and random undersampling to solve class imbalance problem\n",
    "# from imblearn.pipeline import Pipeline\n",
    "# sampling_pipeline = Pipeline([\n",
    "#     (\"over\", SMOTE()),\n",
    "#     (\"under\", RandomUnderSampler())\n",
    "# ])\n",
    "\n",
    "# X, y = sampling_pipeline.fit_resample(X, y)"
   ]
  },
  {
   "cell_type": "code",
   "execution_count": 9,
   "metadata": {},
   "outputs": [
    {
     "name": "stdout",
     "output_type": "stream",
     "text": [
      "Training Samples:  5977\n",
      "Testing Samples:  1055\n"
     ]
    }
   ],
   "source": [
    "# Splitting the dataset in train and test\n",
    "train_full_set, test_set = train_test_split(churn_df, test_size=0.15, random_state=42, stratify=churn_df[\"Churn\"])\n",
    "print(\"Training Samples: \", train_full_set.shape[0])\n",
    "print(\"Testing Samples: \", test_set.shape[0])"
   ]
  },
  {
   "cell_type": "code",
   "execution_count": 10,
   "metadata": {},
   "outputs": [
    {
     "data": {
      "text/plain": [
       "0    4388\n",
       "1    1589\n",
       "Name: Churn, dtype: int64"
      ]
     },
     "execution_count": 10,
     "metadata": {},
     "output_type": "execute_result"
    }
   ],
   "source": [
    "# Checking for class imbalance here\n",
    "train_full_set[\"Churn\"].value_counts()"
   ]
  },
  {
   "cell_type": "code",
   "execution_count": 11,
   "metadata": {},
   "outputs": [],
   "source": [
    "X_train_full = train_full_set.drop(\"Churn\", axis=1)\n",
    "y_train_full = train_full_set[\"Churn\"]"
   ]
  },
  {
   "cell_type": "code",
   "execution_count": 12,
   "metadata": {},
   "outputs": [
    {
     "name": "stdout",
     "output_type": "stream",
     "text": [
      "Train Samples:  4781\n",
      "Val Samples:  1196\n"
     ]
    }
   ],
   "source": [
    "# Now Splitting the full training dataset again into train and validation\n",
    "train_set, val_set = train_test_split(train_full_set, test_size=0.2, random_state=42, stratify=train_full_set[\"Churn\"])\n",
    "print(\"Train Samples: \", train_set.shape[0])\n",
    "print(\"Val Samples: \", val_set.shape[0])"
   ]
  },
  {
   "cell_type": "code",
   "execution_count": 13,
   "metadata": {},
   "outputs": [],
   "source": [
    "# Creating X and y values for each dataset\n",
    "X_train = train_set.drop(\"Churn\", axis=1)\n",
    "X_val = val_set.drop(\"Churn\", axis=1)\n",
    "X_test = test_set.drop(\"Churn\", axis=1)\n",
    "y_train = train_set[\"Churn\"]\n",
    "y_val = val_set[\"Churn\"]\n",
    "y_test = test_set[\"Churn\"]"
   ]
  },
  {
   "cell_type": "code",
   "execution_count": 14,
   "metadata": {},
   "outputs": [],
   "source": [
    "# Building a columntransformer pipeline for data preprocessing\n",
    "preprocessing_pipeline = ColumnTransformer([\n",
    "    (\"std_scaler\", StandardScaler(), num_attributes),\n",
    "    (\"cat_one_hot\", OneHotEncoder(), cat_attributes)\n",
    "])"
   ]
  },
  {
   "cell_type": "code",
   "execution_count": 15,
   "metadata": {},
   "outputs": [],
   "source": [
    "# create a K_fold split\n",
    "cv = RepeatedStratifiedKFold(n_splits=5, n_repeats=3, random_state=42)"
   ]
  },
  {
   "cell_type": "code",
   "execution_count": 16,
   "metadata": {},
   "outputs": [],
   "source": [
    "# Let's first build a Simple Logistic regression Model\n",
    "lr_pipeline = Pipeline([\n",
    "    (\"preprocess\", preprocessing_pipeline),\n",
    "    (\"lr\", LogisticRegression(solver=\"sag\", max_iter=1000, class_weight=\"balanced\") )\n",
    "])\n",
    "\n",
    "scores = cross_val_score(lr_pipeline, X_train_full, y_train_full, scoring=\"roc_auc\", cv=cv)"
   ]
  },
  {
   "cell_type": "code",
   "execution_count": 17,
   "metadata": {},
   "outputs": [],
   "source": [
    "# Creating a function to display scores\n",
    "def display_scores(scores):\n",
    "    print(\"ROC-AUC Scores: \", scores)\n",
    "    print(\"ROC-AUC Mean: \", scores.mean())\n",
    "    print(\"ROC-AUC SD: \", scores.std())"
   ]
  },
  {
   "cell_type": "code",
   "execution_count": 18,
   "metadata": {},
   "outputs": [
    {
     "name": "stdout",
     "output_type": "stream",
     "text": [
      "ROC-AUC Scores:  [0.83033732 0.86706136 0.84505939 0.85061997 0.84199637 0.85330618\n",
      " 0.83399414 0.85207994 0.85581026 0.84034157 0.84060938 0.83349092\n",
      " 0.86840072 0.86151689 0.83264129]\n",
      "ROC-AUC Mean:  0.8471510472021809\n",
      "ROC-AUC SD:  0.012045988570697132\n"
     ]
    }
   ],
   "source": [
    "# Checking out the scores for our Logistic Regression Model\n",
    "display_scores(scores)"
   ]
  },
  {
   "cell_type": "code",
   "execution_count": null,
   "metadata": {},
   "outputs": [],
   "source": [
    "# Fitting the pipeline on the training data\n",
    "lr_pipeline.fit(X_train_full, y_train_full)"
   ]
  },
  {
   "cell_type": "code",
   "execution_count": 20,
   "metadata": {},
   "outputs": [],
   "source": [
    "# a function to print all metrics of results on test set\n",
    "def print_metrics(prediction):\n",
    "    print(\"Accuracy: \", round(accuracy_score(y_test, prediction), 2))\n",
    "    print(\"ROC-AUC score: \", round(roc_auc_score(y_test, prediction), 2))\n",
    "    print(\"F1-score: \", round(f1_score(y_test, prediction, average=\"weighted\"), 2))\n",
    "    print(\"Precision: \", round(precision_score(y_test, prediction, average=\"weighted\"), 2))\n",
    "    print(\"Recall: \", round(recall_score(y_test, prediction, average=\"weighted\"), 2))\n",
    "    print(\"---------------------------\")\n",
    "    print(confusion_matrix(y_test, prediction))\n",
    "    print(\"---------------------------\")\n",
    "    print(classification_report(y_test, prediction))"
   ]
  },
  {
   "cell_type": "code",
   "execution_count": 21,
   "metadata": {},
   "outputs": [
    {
     "name": "stdout",
     "output_type": "stream",
     "text": [
      "Accuracy:  0.72\n",
      "ROC-AUC score:  0.75\n",
      "F1-score:  0.74\n",
      "Precision:  0.8\n",
      "Recall:  0.72\n",
      "---------------------------\n",
      "[[537 238]\n",
      " [ 55 225]]\n",
      "---------------------------\n",
      "              precision    recall  f1-score   support\n",
      "\n",
      "           0       0.91      0.69      0.79       775\n",
      "           1       0.49      0.80      0.61       280\n",
      "\n",
      "    accuracy                           0.72      1055\n",
      "   macro avg       0.70      0.75      0.70      1055\n",
      "weighted avg       0.80      0.72      0.74      1055\n",
      "\n"
     ]
    }
   ],
   "source": [
    "# Checking the model performance on test data\n",
    "y_pred_lr = lr_pipeline.predict(X_test)\n",
    "print_metrics(y_pred_lr)"
   ]
  },
  {
   "cell_type": "code",
   "execution_count": 22,
   "metadata": {},
   "outputs": [],
   "source": [
    "# Let's now build a Random Forest classifier Model\n",
    "rf_pipeline = Pipeline([\n",
    "    (\"preprocess\", preprocessing_pipeline),\n",
    "    (\"rf\", RandomForestClassifier(n_estimators=50, class_weight=\"balanced\") )\n",
    "])\n",
    "\n",
    "scores = cross_val_score(rf_pipeline, X_train, y_train, scoring=\"roc_auc\", cv=cv, n_jobs=-1)"
   ]
  },
  {
   "cell_type": "code",
   "execution_count": 23,
   "metadata": {},
   "outputs": [
    {
     "name": "stdout",
     "output_type": "stream",
     "text": [
      "ROC-AUC Scores:  [0.82922183 0.82024082 0.82440777 0.8176498  0.81090865 0.79896933\n",
      " 0.81238363 0.81664592 0.83754515 0.81393712 0.83016591 0.8114807\n",
      " 0.80590888 0.81827792 0.82886915]\n",
      "ROC-AUC Mean:  0.8184408377015551\n",
      "ROC-AUC SD:  0.009894408914726163\n"
     ]
    }
   ],
   "source": [
    "# Checking out the scores for our Random Forest Model\n",
    "display_scores(scores)"
   ]
  },
  {
   "cell_type": "code",
   "execution_count": null,
   "metadata": {},
   "outputs": [],
   "source": [
    "# Fitting the pipeline on the training data\n",
    "rf_pipeline.fit(X_train_full, y_train_full)"
   ]
  },
  {
   "cell_type": "code",
   "execution_count": 25,
   "metadata": {
    "collapsed": true,
    "jupyter": {
     "outputs_hidden": true
    },
    "tags": []
   },
   "outputs": [
    {
     "name": "stdout",
     "output_type": "stream",
     "text": [
      "Accuracy:  0.77\n",
      "ROC-AUC score:  0.68\n",
      "F1-score:  0.77\n",
      "Precision:  0.76\n",
      "Recall:  0.77\n",
      "---------------------------\n",
      "[[679  96]\n",
      " [144 136]]\n",
      "---------------------------\n",
      "              precision    recall  f1-score   support\n",
      "\n",
      "           0       0.83      0.88      0.85       775\n",
      "           1       0.59      0.49      0.53       280\n",
      "\n",
      "    accuracy                           0.77      1055\n",
      "   macro avg       0.71      0.68      0.69      1055\n",
      "weighted avg       0.76      0.77      0.77      1055\n",
      "\n"
     ]
    }
   ],
   "source": [
    "# Checking the model performance on test data\n",
    "y_pred_rf = rf_pipeline.predict(X_test)\n",
    "print_metrics(y_pred_rf)"
   ]
  },
  {
   "cell_type": "code",
   "execution_count": 26,
   "metadata": {},
   "outputs": [],
   "source": [
    "# Create a param_grid with values for tuning hyperparameters\n",
    "rf_param_grid = [{'rf__criterion': [\"gini\", \"entropy\"], 'rf__n_estimators': [50, 100, 150, 200], 'rf__class_weight': ['balanced'],\n",
    "               'rf__max_depth': [4, 6, 8, 10], 'rf__max_features': [8, 10, 12, 14]}]"
   ]
  },
  {
   "cell_type": "code",
   "execution_count": null,
   "metadata": {},
   "outputs": [],
   "source": [
    "# Creating a gridsearchCV for randomforestModel\n",
    "rf_pipeline = Pipeline([\n",
    "    (\"preprocess\", preprocessing_pipeline),\n",
    "    (\"rf\", RandomForestClassifier() )\n",
    "])\n",
    "\n",
    "grid_search = GridSearchCV(rf_pipeline, rf_param_grid, cv=cv, scoring=\"roc_auc\", return_train_score=True, n_jobs=-1)\n",
    "grid_search.fit(X_train_full, y_train_full)"
   ]
  },
  {
   "cell_type": "code",
   "execution_count": 28,
   "metadata": {},
   "outputs": [
    {
     "data": {
      "text/plain": [
       "{'rf__class_weight': 'balanced',\n",
       " 'rf__criterion': 'entropy',\n",
       " 'rf__max_depth': 6,\n",
       " 'rf__max_features': 12,\n",
       " 'rf__n_estimators': 200}"
      ]
     },
     "execution_count": 28,
     "metadata": {},
     "output_type": "execute_result"
    }
   ],
   "source": [
    "# checking the model's best performing hyperparameters\n",
    "grid_search.best_params_"
   ]
  },
  {
   "cell_type": "code",
   "execution_count": 29,
   "metadata": {},
   "outputs": [
    {
     "data": {
      "text/plain": [
       "0.8483801926951596"
      ]
     },
     "execution_count": 29,
     "metadata": {},
     "output_type": "execute_result"
    }
   ],
   "source": [
    "# checking the model's best score\n",
    "grid_search.best_score_"
   ]
  },
  {
   "cell_type": "code",
   "execution_count": 30,
   "metadata": {},
   "outputs": [
    {
     "data": {
      "text/plain": [
       "RandomForestClassifier(class_weight='balanced', criterion='entropy',\n",
       "                       max_depth=6, max_features=12, n_estimators=200)"
      ]
     },
     "execution_count": 30,
     "metadata": {},
     "output_type": "execute_result"
    }
   ],
   "source": [
    "grid_search.best_estimator_[1]"
   ]
  },
  {
   "cell_type": "code",
   "execution_count": 31,
   "metadata": {},
   "outputs": [
    {
     "data": {
      "text/plain": [
       "array([0.12010466, 0.0621366 , 0.08168823, 0.00292874, 0.0033179 ,\n",
       "       0.00266401, 0.00237524, 0.00301255, 0.00262638, 0.00143806,\n",
       "       0.00133436, 0.00265666, 0.00172774, 0.00328347, 0.01964023,\n",
       "       0.0690796 , 0.00454721, 0.07419715, 0.00425707, 0.00724572,\n",
       "       0.00894795, 0.00768434, 0.00276418, 0.00305462, 0.00365982,\n",
       "       0.0012    , 0.04338767, 0.00782533, 0.0067929 , 0.0031802 ,\n",
       "       0.00695969, 0.00531398, 0.00469833, 0.00421232, 0.00909418,\n",
       "       0.23344478, 0.02363913, 0.10528118, 0.00461525, 0.00566732,\n",
       "       0.00428622, 0.00302399, 0.02841473, 0.00259032])"
      ]
     },
     "execution_count": 31,
     "metadata": {},
     "output_type": "execute_result"
    }
   ],
   "source": [
    "# Getting the feature importance of each attribute\n",
    "feature_importances = grid_search.best_estimator_[1].feature_importances_\n",
    "feature_importances"
   ]
  },
  {
   "cell_type": "code",
   "execution_count": 32,
   "metadata": {},
   "outputs": [
    {
     "name": "stdout",
     "output_type": "stream",
     "text": [
      "Accuracy:  0.73\n",
      "ROC-AUC score:  0.76\n",
      "F1-score:  0.75\n",
      "Precision:  0.8\n",
      "Recall:  0.73\n",
      "---------------------------\n",
      "[[551 224]\n",
      " [ 56 224]]\n",
      "---------------------------\n",
      "              precision    recall  f1-score   support\n",
      "\n",
      "           0       0.91      0.71      0.80       775\n",
      "           1       0.50      0.80      0.62       280\n",
      "\n",
      "    accuracy                           0.73      1055\n",
      "   macro avg       0.70      0.76      0.71      1055\n",
      "weighted avg       0.80      0.73      0.75      1055\n",
      "\n"
     ]
    }
   ],
   "source": [
    "# Selecting the model with best parameters\n",
    "final_rf_model = grid_search.best_estimator_\n",
    "\n",
    "# Checking the model performance on test data\n",
    "y_pred_rf = final_rf_model.predict(X_test)\n",
    "print_metrics(y_pred_rf)"
   ]
  },
  {
   "cell_type": "code",
   "execution_count": 34,
   "metadata": {},
   "outputs": [],
   "source": [
    "# Let's first build a K Nearerst Neigbors classifier Model\n",
    "knn_pipeline = Pipeline([\n",
    "    (\"preprocess\", preprocessing_pipeline),\n",
    "    (\"knn\", KNeighborsClassifier(n_neighbors=20))\n",
    "])\n",
    "\n",
    "scores = cross_val_score(knn_pipeline, X_train, y_train, scoring=\"roc_auc\", cv=cv, n_jobs=-1)"
   ]
  },
  {
   "cell_type": "code",
   "execution_count": 35,
   "metadata": {},
   "outputs": [
    {
     "name": "stdout",
     "output_type": "stream",
     "text": [
      "ROC-AUC Scores:  [0.84057036 0.82831673 0.81779    0.83448303 0.81659544 0.80803866\n",
      " 0.82064461 0.82161765 0.85639455 0.80857281 0.83621027 0.82296644\n",
      " 0.80869619 0.83693945 0.8305993 ]\n",
      "ROC-AUC Mean:  0.8258956998985819\n",
      "ROC-AUC SD:  0.013158117979862558\n"
     ]
    }
   ],
   "source": [
    "# Checking out the scores for our K Nearest Neigbors Model\n",
    "display_scores(scores)"
   ]
  },
  {
   "cell_type": "code",
   "execution_count": null,
   "metadata": {},
   "outputs": [],
   "source": [
    "# Fitting the pipeline on the training data\n",
    "knn_pipeline.fit(X_train_full, y_train_full)"
   ]
  },
  {
   "cell_type": "code",
   "execution_count": 37,
   "metadata": {
    "collapsed": true,
    "jupyter": {
     "outputs_hidden": true
    },
    "tags": []
   },
   "outputs": [
    {
     "name": "stdout",
     "output_type": "stream",
     "text": [
      "Accuracy:  0.78\n",
      "ROC-AUC score:  0.71\n",
      "F1-score:  0.78\n",
      "Precision:  0.77\n",
      "Recall:  0.78\n",
      "---------------------------\n",
      "[[668 107]\n",
      " [126 154]]\n",
      "---------------------------\n",
      "              precision    recall  f1-score   support\n",
      "\n",
      "           0       0.84      0.86      0.85       775\n",
      "           1       0.59      0.55      0.57       280\n",
      "\n",
      "    accuracy                           0.78      1055\n",
      "   macro avg       0.72      0.71      0.71      1055\n",
      "weighted avg       0.77      0.78      0.78      1055\n",
      "\n"
     ]
    }
   ],
   "source": [
    "# Checking the model performance on test data\n",
    "y_pred_knn = knn_pipeline.predict(X_test)\n",
    "print_metrics(y_pred_knn)"
   ]
  },
  {
   "cell_type": "code",
   "execution_count": 44,
   "metadata": {},
   "outputs": [],
   "source": [
    "# Create a param_grid with values for tuning hyperparameters\n",
    "knn_param_grid = [{'knn__n_neighbors': [30, 35, 40, 45, 50],\n",
    "                    'knn__weights': ['uniform', 'distance'],\n",
    "                    'knn__metric': ['euclidean', 'manhattan', 'minkowski']\n",
    "                   }]"
   ]
  },
  {
   "cell_type": "code",
   "execution_count": null,
   "metadata": {},
   "outputs": [],
   "source": [
    "# Creating a gridsearchCV for randomforestModel\n",
    "knn_pipeline = Pipeline([\n",
    "    (\"preprocess\", preprocessing_pipeline),\n",
    "    (\"knn\", KNeighborsClassifier() )\n",
    "])\n",
    "\n",
    "knn_grid_search = GridSearchCV(knn_pipeline, knn_param_grid, cv=cv, scoring=\"roc_auc\", return_train_score=True, n_jobs=-1)\n",
    "knn_grid_search.fit(X_train_full, y_train_full)"
   ]
  },
  {
   "cell_type": "code",
   "execution_count": 46,
   "metadata": {},
   "outputs": [
    {
     "data": {
      "text/plain": [
       "{'knn__metric': 'euclidean', 'knn__n_neighbors': 50, 'knn__weights': 'uniform'}"
      ]
     },
     "execution_count": 46,
     "metadata": {},
     "output_type": "execute_result"
    }
   ],
   "source": [
    "# checking the model's best performing hyperparameters\n",
    "knn_grid_search.best_params_"
   ]
  },
  {
   "cell_type": "code",
   "execution_count": 47,
   "metadata": {},
   "outputs": [
    {
     "data": {
      "text/plain": [
       "0.8359260953932623"
      ]
     },
     "execution_count": 47,
     "metadata": {},
     "output_type": "execute_result"
    }
   ],
   "source": [
    "#  checking the model's best score\n",
    "knn_grid_search.best_score_"
   ]
  },
  {
   "cell_type": "code",
   "execution_count": 48,
   "metadata": {},
   "outputs": [
    {
     "data": {
      "text/plain": [
       "KNeighborsClassifier(metric='euclidean', n_neighbors=50)"
      ]
     },
     "execution_count": 48,
     "metadata": {},
     "output_type": "execute_result"
    }
   ],
   "source": [
    "knn_grid_search.best_estimator_[1]"
   ]
  },
  {
   "cell_type": "code",
   "execution_count": 49,
   "metadata": {},
   "outputs": [
    {
     "name": "stdout",
     "output_type": "stream",
     "text": [
      "Accuracy:  0.78\n",
      "ROC-AUC score:  0.72\n",
      "F1-score:  0.78\n",
      "Precision:  0.78\n",
      "Recall:  0.78\n",
      "---------------------------\n",
      "[[660 115]\n",
      " [116 164]]\n",
      "---------------------------\n",
      "              precision    recall  f1-score   support\n",
      "\n",
      "           0       0.85      0.85      0.85       775\n",
      "           1       0.59      0.59      0.59       280\n",
      "\n",
      "    accuracy                           0.78      1055\n",
      "   macro avg       0.72      0.72      0.72      1055\n",
      "weighted avg       0.78      0.78      0.78      1055\n",
      "\n"
     ]
    }
   ],
   "source": [
    "# Selecting the model with best parameters\n",
    "final_knn_model = knn_grid_search.best_estimator_\n",
    "\n",
    "# Checking the model performance on test data\n",
    "y_pred_knn = final_knn_model.predict(X_test)\n",
    "print_metrics(y_pred_knn)"
   ]
  },
  {
   "cell_type": "code",
   "execution_count": null,
   "metadata": {},
   "outputs": [],
   "source": [
    "# Finally, Let's try out the XGboost Classifier\n",
    "xgb_pipeline = Pipeline([\n",
    "    (\"preprocess\", preprocessing_pipeline),\n",
    "    (\"xgb\", XGBClassifier())\n",
    "])\n",
    "\n",
    "scores = cross_val_score(xgb_pipeline, X_train, y_train, scoring=\"roc_auc\", cv=cv, n_jobs=-1)"
   ]
  },
  {
   "cell_type": "code",
   "execution_count": 52,
   "metadata": {},
   "outputs": [
    {
     "name": "stdout",
     "output_type": "stream",
     "text": [
      "ROC-AUC Scores:  [0.84060946 0.82576777 0.81568971 0.81729928 0.82398154 0.80761689\n",
      " 0.83445499 0.81600938 0.83235189 0.82778675 0.84383833 0.81247616\n",
      " 0.81795545 0.83272203 0.8225991 ]\n",
      "ROC-AUC Mean:  0.8247439152433748\n",
      "ROC-AUC SD:  0.010169388155857002\n"
     ]
    }
   ],
   "source": [
    "display_scores(scores)"
   ]
  },
  {
   "cell_type": "code",
   "execution_count": null,
   "metadata": {},
   "outputs": [],
   "source": [
    "# Fitting the pipeline on the training data\n",
    "xgb_pipeline.fit(X_train_full, y_train_full)"
   ]
  },
  {
   "cell_type": "code",
   "execution_count": 54,
   "metadata": {
    "collapsed": true,
    "jupyter": {
     "outputs_hidden": true
    },
    "tags": []
   },
   "outputs": [
    {
     "name": "stdout",
     "output_type": "stream",
     "text": [
      "Accuracy:  0.79\n",
      "ROC-AUC score:  0.7\n",
      "F1-score:  0.78\n",
      "Precision:  0.78\n",
      "Recall:  0.79\n",
      "---------------------------\n",
      "[[686  89]\n",
      " [137 143]]\n",
      "---------------------------\n",
      "              precision    recall  f1-score   support\n",
      "\n",
      "           0       0.83      0.89      0.86       775\n",
      "           1       0.62      0.51      0.56       280\n",
      "\n",
      "    accuracy                           0.79      1055\n",
      "   macro avg       0.72      0.70      0.71      1055\n",
      "weighted avg       0.78      0.79      0.78      1055\n",
      "\n"
     ]
    }
   ],
   "source": [
    "# Checking the model performance on test data\n",
    "y_pred_xgb = xgb_pipeline.predict(X_test)\n",
    "print_metrics(y_pred_xgb)"
   ]
  },
  {
   "cell_type": "code",
   "execution_count": 55,
   "metadata": {},
   "outputs": [],
   "source": [
    "# Creating a parameter list for XGboost Classifier\n",
    "xgb_param_grid = [{'xgb__gamma': [0.5, 1, 1.5, 2, 5],\n",
    "              'xgb__learning_rate': [0.001, 0.01, 0.1],\n",
    "              'xgb__max_depth': [5, 6, 7],\n",
    "              'xgb__n_estimators': [50, 100, 150, 200],\n",
    "              'xgb__subsample': [0.5, 0.75]\n",
    "             }]"
   ]
  },
  {
   "cell_type": "code",
   "execution_count": null,
   "metadata": {
    "scrolled": true,
    "tags": []
   },
   "outputs": [],
   "source": [
    "# Creating a gridsearchCV for Xgboost classifier\n",
    "xgb_pipeline = Pipeline([\n",
    "    (\"preprocess\", preprocessing_pipeline),\n",
    "    (\"xgb\", XGBClassifier() )\n",
    "])\n",
    "\n",
    "xgb_grid_search = GridSearchCV(xgb_pipeline, xgb_param_grid, cv=cv, scoring=\"roc_auc\", return_train_score=True, n_jobs=-1)\n",
    "xgb_grid_search.fit(X_train_full, y_train_full)"
   ]
  },
  {
   "cell_type": "code",
   "execution_count": 58,
   "metadata": {},
   "outputs": [
    {
     "data": {
      "text/plain": [
       "{'xgb__gamma': 5,\n",
       " 'xgb__learning_rate': 0.1,\n",
       " 'xgb__max_depth': 5,\n",
       " 'xgb__n_estimators': 50,\n",
       " 'xgb__subsample': 0.75}"
      ]
     },
     "execution_count": 58,
     "metadata": {},
     "output_type": "execute_result"
    }
   ],
   "source": [
    "# checking the model's best performing hyperparameters\n",
    "xgb_grid_search.best_params_"
   ]
  },
  {
   "cell_type": "code",
   "execution_count": 59,
   "metadata": {},
   "outputs": [
    {
     "data": {
      "text/plain": [
       "0.8501143338820717"
      ]
     },
     "execution_count": 59,
     "metadata": {},
     "output_type": "execute_result"
    }
   ],
   "source": [
    "# checking the model's best score\n",
    "xgb_grid_search.best_score_"
   ]
  },
  {
   "cell_type": "code",
   "execution_count": 60,
   "metadata": {},
   "outputs": [
    {
     "data": {
      "text/plain": [
       "XGBClassifier(base_score=0.5, booster='gbtree', colsample_bylevel=1,\n",
       "              colsample_bynode=1, colsample_bytree=1, enable_categorical=False,\n",
       "              gamma=5, gpu_id=-1, importance_type=None,\n",
       "              interaction_constraints='', learning_rate=0.1, max_delta_step=0,\n",
       "              max_depth=5, min_child_weight=1, missing=nan,\n",
       "              monotone_constraints='()', n_estimators=50, n_jobs=2,\n",
       "              num_parallel_tree=1, predictor='auto', random_state=0,\n",
       "              reg_alpha=0, reg_lambda=1, scale_pos_weight=1, subsample=0.75,\n",
       "              tree_method='exact', validate_parameters=1, verbosity=None)"
      ]
     },
     "execution_count": 60,
     "metadata": {},
     "output_type": "execute_result"
    }
   ],
   "source": [
    "xgb_grid_search.best_estimator_[1]"
   ]
  },
  {
   "cell_type": "code",
   "execution_count": 61,
   "metadata": {},
   "outputs": [
    {
     "name": "stdout",
     "output_type": "stream",
     "text": [
      "Accuracy:  0.79\n",
      "ROC-AUC score:  0.7\n",
      "F1-score:  0.78\n",
      "Precision:  0.78\n",
      "Recall:  0.79\n",
      "---------------------------\n",
      "[[690  85]\n",
      " [135 145]]\n",
      "---------------------------\n",
      "              precision    recall  f1-score   support\n",
      "\n",
      "           0       0.84      0.89      0.86       775\n",
      "           1       0.63      0.52      0.57       280\n",
      "\n",
      "    accuracy                           0.79      1055\n",
      "   macro avg       0.73      0.70      0.72      1055\n",
      "weighted avg       0.78      0.79      0.78      1055\n",
      "\n"
     ]
    }
   ],
   "source": [
    "# Selecting the model with best parameters\n",
    "final_xgb_model = xgb_grid_search.best_estimator_\n",
    "\n",
    "# Checking the model performance on test data\n",
    "y_pred_xgb = final_xgb_model.predict(X_test)\n",
    "print_metrics(y_pred_xgb)"
   ]
  },
  {
   "cell_type": "code",
   "execution_count": 62,
   "metadata": {},
   "outputs": [
    {
     "data": {
      "text/plain": [
       "['models/xtreme_boosting_churn.pkl']"
      ]
     },
     "execution_count": 62,
     "metadata": {},
     "output_type": "execute_result"
    }
   ],
   "source": [
    "# Saving all the ML models\n",
    "import joblib\n",
    "\n",
    "# Logistic Regression Model\n",
    "joblib.dump(lr_pipeline, \"models/logistic_regression_churn.pkl\")\n",
    "\n",
    "# Random Forest Classifier Model\n",
    "joblib.dump(final_rf_model, \"models/random_forest_churn.pkl\")\n",
    "\n",
    "# K Nearest Neigbors Classifier Model\n",
    "joblib.dump(final_knn_model, \"models/k_nearest_neighbors_churn.pkl\")\n",
    "\n",
    "# Extreme Gradient Boosting Classifier Model\n",
    "joblib.dump(final_xgb_model, \"models/xtreme_boosting_churn.pkl\")"
   ]
  },
  {
   "cell_type": "code",
   "execution_count": 70,
   "metadata": {},
   "outputs": [
    {
     "data": {
      "image/png": "[encoded data removed]",
      "text/plain": [
       "<Figure size 432x288 with 1 Axes>"
      ]
     },
     "metadata": {
      "needs_background": "light"
     },
     "output_type": "display_data"
    }
   ],
   "source": [
    "# Create ROC Graph\n",
    "from sklearn.metrics import roc_curve\n",
    "lr_fpr, lr_tpr, lr_thresholds = roc_curve(y_test, lr_pipeline.predict_proba(X_test)[:,1])\n",
    "rf_fpr, rf_tpr, rf_thresholds = roc_curve(y_test, final_rf_model.predict_proba(X_test)[:,1])\n",
    "knn_fpr, knn_tpr, knn_thresholds = roc_curve(y_test, final_knn_model.predict_proba(X_test)[:,1])\n",
    "xgb_fpr, xgb_tpr, xgb_thresholds = roc_curve(y_test, final_xgb_model.predict_proba(X_test)[:,1])\n",
    "\n",
    "lr_roc_auc = roc_auc_score(y_test, y_pred_lr)\n",
    "rf_roc_auc = roc_auc_score(y_test, y_pred_rf)\n",
    "knn_roc_auc = roc_auc_score(y_test, y_pred_knn)\n",
    "xgb_roc_auc = roc_auc_score(y_test, y_pred_xgb)\n",
    "\n",
    "plt.figure()\n",
    "\n",
    "# Plot Logistic Regression ROC\n",
    "plt.plot(lr_fpr, lr_tpr, label='LR (area = %0.2f)' % lr_roc_auc)\n",
    "\n",
    "# Plot Random Forest ROC\n",
    "plt.plot(rf_fpr, rf_tpr, label='RF (area = %0.2f)' % rf_roc_auc)\n",
    "\n",
    "# Plot K Nearest Neighbors ROC\n",
    "plt.plot(knn_fpr, knn_tpr, label='KNN (area = %0.2f)' % knn_roc_auc)\n",
    "\n",
    "# Plot XGboost ROC\n",
    "plt.plot(xgb_fpr, xgb_tpr, label='XGB (area = %0.2f)' % xgb_auc)\n",
    "\n",
    "# Plot Base Rate ROC\n",
    "plt.plot([0,1], [0,1],label='Base')\n",
    "\n",
    "plt.xlim([0.0, 1.05])\n",
    "plt.ylim([0.0, 1.05])\n",
    "plt.xlabel('False Positive Rate')\n",
    "plt.ylabel('True Positive Rate')\n",
    "plt.title('ROC Graph')\n",
    "plt.legend(loc=\"lower right\", )\n",
    "plt.show()"
   ]
  },
  {
   "cell_type": "code",
   "execution_count": null,
   "metadata": {},
   "outputs": [],
   "source": []
  }
 ],
 "metadata": {
  "interpreter": {
   "hash": "b3ba2566441a7c06988d0923437866b63cedc61552a5af99d1f4fb67d367b25f"
  },
  "kernelspec": {
   "display_name": "tensorflow",
   "language": "python",
   "name": "tensorflow"
  },
  "language_info": {
   "codemirror_mode": {
    "name": "ipython",
    "version": 3
   },
   "file_extension": ".py",
   "mimetype": "text/x-python",
   "name": "python",
   "nbconvert_exporter": "python",
   "pygments_lexer": "ipython3",
   "version": "3.9.7"
  }
 },
 "nbformat": 4,
 "nbformat_minor": 4
}
